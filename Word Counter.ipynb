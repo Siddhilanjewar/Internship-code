{
 "cells": [
  {
   "cell_type": "code",
   "execution_count": 5,
   "id": "6703ac4e",
   "metadata": {},
   "outputs": [
    {
     "name": "stdout",
     "output_type": "stream",
     "text": [
      "Welcome to the Word Counter Program!\n",
      "Please enter the text you want to analyze:\n",
      "Python is powerful,general-purpose, high level,object oriented programming language. It is developed by Guido van Rossum . It is released in 1991.\n",
      "The number of words in the given text is: 21\n"
     ]
    }
   ],
   "source": [
    "def count_words(text):\n",
    "        \n",
    "    words = text.split()\n",
    "    \n",
    "    num_words = len(words)\n",
    "    return num_words\n",
    "\n",
    "def main():\n",
    "    \n",
    "    print(\"Welcome to the Word Counter Program!\")\n",
    "    print(\"Please enter the text you want to analyze:\")\n",
    "    \n",
    "    try:\n",
    "        text = input()\n",
    "        \n",
    "        if not text.strip():\n",
    "            raise ValueError(\"Input cannot be empty. Please enter some text.\")\n",
    "        \n",
    "        num_words = count_words(text)\n",
    "        \n",
    "        print(f\"The number of words in the given text is: {num_words}\")\n",
    "    \n",
    "    except ValueError as e:\n",
    "        print(f\"Error: {e}\")\n",
    "    except Exception as e:\n",
    "        print(f\"An unexpected error occurred: {e}\")\n",
    "\n",
    "if __name__ == \"__main__\":\n",
    "    main()\n"
   ]
  },
  {
   "cell_type": "code",
   "execution_count": null,
   "id": "810dbcec",
   "metadata": {},
   "outputs": [],
   "source": []
  }
 ],
 "metadata": {
  "kernelspec": {
   "display_name": "Python 3 (ipykernel)",
   "language": "python",
   "name": "python3"
  },
  "language_info": {
   "codemirror_mode": {
    "name": "ipython",
    "version": 3
   },
   "file_extension": ".py",
   "mimetype": "text/x-python",
   "name": "python",
   "nbconvert_exporter": "python",
   "pygments_lexer": "ipython3",
   "version": "3.11.4"
  }
 },
 "nbformat": 4,
 "nbformat_minor": 5
}
